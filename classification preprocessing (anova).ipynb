{
 "cells": [
  {
   "cell_type": "code",
   "execution_count": 1,
   "id": "2cbb6f43",
   "metadata": {},
   "outputs": [],
   "source": [
    "#import libraries\n",
    "import numpy as np\n",
    "import pandas as pd\n",
    "import matplotlib.pyplot as plt\n",
    "from sklearn.preprocessing import StandardScaler\n",
    "import sklearn\n",
    "from sklearn.model_selection import cross_val_score\n",
    "from sklearn.model_selection import train_test_split"
   ]
  },
  {
   "cell_type": "code",
   "execution_count": 2,
   "id": "e20f1971",
   "metadata": {},
   "outputs": [],
   "source": [
    "#import dataset\n",
    "df = pd.read_excel('trainDataset.xls')"
   ]
  },
  {
   "cell_type": "code",
   "execution_count": 3,
   "id": "bcd33a63",
   "metadata": {},
   "outputs": [],
   "source": [
    "#drop ID column from dataset\n",
    "df = df.iloc[:, 1:]"
   ]
  },
  {
   "cell_type": "markdown",
   "id": "c726d012",
   "metadata": {},
   "source": [
    "# **DELETE MISSING VALUES**"
   ]
  },
  {
   "cell_type": "code",
   "execution_count": 4,
   "id": "27d8546c",
   "metadata": {},
   "outputs": [],
   "source": [
    "#delete missing values (999) of each column \n",
    "for column in df:\n",
    "    df[column]=df[column].replace(999, None)\n",
    "\n",
    "df = df.dropna()\n",
    "\n",
    "target_classif = pd.DataFrame(df['pCR (outcome)'], columns = ['pCR (outcome)'])"
   ]
  },
  {
   "cell_type": "code",
   "execution_count": 5,
   "id": "2f82d4fb",
   "metadata": {},
   "outputs": [],
   "source": [
    "final_df_classif = df\n",
    "\n",
    "#namelist of columns that has categorical data or do not need normalisation for classification\n",
    "drop_classif = ['pCR (outcome)', 'ER', 'PgR', 'HER2', 'TrippleNegative', 'ChemoGrade', 'Proliferation', 'HistologyType', 'LNStatus', 'TumourStage']\n",
    "\n",
    "#drop the columns with booleans/specific grades as they wont have outliers\n",
    "df_classif = df.drop(drop_classif, axis=1)"
   ]
  },
  {
   "cell_type": "markdown",
   "id": "b793cedd",
   "metadata": {},
   "source": [
    "# **REPLACING OUTLIERS**"
   ]
  },
  {
   "cell_type": "code",
   "execution_count": 6,
   "id": "5aaa8dd1",
   "metadata": {
    "scrolled": false
   },
   "outputs": [],
   "source": [
    "#use IQR method to find outliers\n",
    "def IQR_outliers(column):\n",
    "    Q1=df[column].quantile(0.25)\n",
    "    Q3=df[column].quantile(0.75)\n",
    "    IQR = Q3-Q1\n",
    "    df_outliers=df[((df[column]<(Q1-1.5*IQR)) | (df[column]>(Q3+1.5*IQR)))]\n",
    "    return df_outliers\n",
    "\n",
    "#delete outliers\n",
    "def replace_outliers(df1):\n",
    "    for column in df1:\n",
    "        df_outliers = IQR_outliers(column)\n",
    "        for i in range((df_outliers.shape[0])):\n",
    "            label_index = df_outliers.index[i]\n",
    "            df1.loc[label_index, column] = df1[column].median()\n",
    "    return df1\n",
    "\n",
    "no_outliers_df = replace_outliers(df_classif)"
   ]
  },
  {
   "cell_type": "markdown",
   "id": "417caefa",
   "metadata": {},
   "source": [
    "# **NORMALISATION**"
   ]
  },
  {
   "cell_type": "code",
   "execution_count": 7,
   "id": "2c7b8e7a",
   "metadata": {},
   "outputs": [],
   "source": [
    "from sklearn.preprocessing import StandardScaler\n",
    "scaler = StandardScaler()\n",
    "\n",
    "#get names of columns\n",
    "names = []\n",
    "for column in no_outliers_df:\n",
    "    names.append(column)\n",
    "\n",
    "normalised_df_classif = pd.DataFrame(scaler.fit_transform(no_outliers_df), columns = names)\n"
   ]
  },
  {
   "cell_type": "markdown",
   "id": "443be4b9",
   "metadata": {},
   "source": [
    "# FEATURE SELECTION"
   ]
  },
  {
   "cell_type": "markdown",
   "id": "f4fd5613",
   "metadata": {},
   "source": [
    "### Regression"
   ]
  },
  {
   "cell_type": "code",
   "execution_count": 8,
   "id": "65d2755e",
   "metadata": {},
   "outputs": [],
   "source": [
    "target_classif.reset_index(drop=True, inplace = True)"
   ]
  },
  {
   "cell_type": "code",
   "execution_count": 9,
   "id": "665d13bf",
   "metadata": {},
   "outputs": [],
   "source": [
    "#get categorical input data\n",
    "target_name = 'pCR (outcome)'\n",
    "\n",
    "categorical_classif = pd.DataFrame()\n",
    "for column in drop_classif:\n",
    "    if column == target_name:\n",
    "        continue\n",
    "    else:\n",
    "        categorical_classif = pd.concat([categorical_classif, df[column]], axis = 1)\n",
    "categorical_classif.reset_index(inplace= True, drop = True)"
   ]
  },
  {
   "cell_type": "code",
   "execution_count": 10,
   "id": "05fc60c3",
   "metadata": {},
   "outputs": [],
   "source": [
    "# Converting categorical data with more than 2 types of data using one hot encoder\n",
    "from sklearn.preprocessing import OneHotEncoder\n",
    "\n",
    "categorical_classif['ChemoGrade']=categorical_classif['ChemoGrade'].astype('category')\n",
    "categorical_classif['Proliferation']=categorical_classif['Proliferation'].astype('category')\n",
    "categorical_classif['TumourStage']=categorical_classif['TumourStage'].astype('category')\n",
    "\n",
    "#Create an instance of One-hot-encoder\n",
    "enc=OneHotEncoder()\n",
    "\n",
    "#Rename columns\n",
    "one_hot_encoded_data = pd.get_dummies(categorical_classif, columns = ['ChemoGrade','Proliferation','TumourStage'])"
   ]
  },
  {
   "cell_type": "code",
   "execution_count": 11,
   "id": "1ab1814a",
   "metadata": {},
   "outputs": [],
   "source": [
    "#concat the one hot encoded categorical features + normalised numerical features\n",
    "finalised = pd.concat([normalised_df_classif, one_hot_encoded_data], axis=1)"
   ]
  },
  {
   "cell_type": "code",
   "execution_count": 12,
   "id": "3eb657e4",
   "metadata": {
    "scrolled": true
   },
   "outputs": [
    {
     "name": "stderr",
     "output_type": "stream",
     "text": [
      "C:\\Users\\Kristy\\anaconda3\\lib\\site-packages\\sklearn\\utils\\validation.py:993: DataConversionWarning: A column-vector y was passed when a 1d array was expected. Please change the shape of y to (n_samples, ), for example using ravel().\n",
      "  y = column_or_1d(y, warn=True)\n"
     ]
    }
   ],
   "source": [
    "#apply ANOVA for regression\n",
    "from sklearn.feature_selection import f_classif, SelectKBest\n",
    "import math\n",
    "\n",
    "fs = SelectKBest(score_func=f_classif,k='all') #k value for when P_value < 0.05\n",
    "# Apply feature selection\n",
    "fs.fit(finalised,target_classif)\n",
    "\n",
    "#declare variable to put selected features for classification\n",
    "df_classif_final = pd.DataFrame()\n",
    "\n",
    "#get Anova F scores\n",
    "features_score = pd.DataFrame(fs.scores_)\n",
    "\n",
    "#get Anova F P values\n",
    "features_pvalue = pd.DataFrame(np.round(fs.pvalues_,4))\n",
    "\n",
    "#get feature names\n",
    "features = pd.DataFrame(finalised.columns)\n",
    "\n",
    "#concat into a dataframe\n",
    "feature_score = pd.concat([features,features_score,features_pvalue],axis=1)\n",
    "\n",
    "# Assign column names\n",
    "feature_score.columns = ['Input_Features','Score','P_Value']\n",
    "\n",
    "#select features where p < 0.05\n",
    "selected = feature_score[feature_score['P_Value'] < 0.05]"
   ]
  },
  {
   "cell_type": "code",
   "execution_count": 13,
   "id": "fdd2fa4d",
   "metadata": {},
   "outputs": [],
   "source": [
    "#get the names of the selected data\n",
    "selected_names = []\n",
    "\n",
    "for i in (range(selected.shape[0])):\n",
    "    selected_names.append(selected.iloc[i,0])"
   ]
  },
  {
   "cell_type": "code",
   "execution_count": 14,
   "id": "f98cdf5f",
   "metadata": {},
   "outputs": [],
   "source": [
    "#concat the selected features from both fs methods\n",
    "selected = finalised[selected_names]"
   ]
  },
  {
   "cell_type": "code",
   "execution_count": 15,
   "id": "8b6ce443",
   "metadata": {},
   "outputs": [],
   "source": [
    "x_classif = selected.iloc[:,:]\n",
    "y_classif = target_classif.iloc[:,:]"
   ]
  }
 ],
 "metadata": {
  "kernelspec": {
   "display_name": "Python 3 (ipykernel)",
   "language": "python",
   "name": "python3"
  },
  "language_info": {
   "codemirror_mode": {
    "name": "ipython",
    "version": 3
   },
   "file_extension": ".py",
   "mimetype": "text/x-python",
   "name": "python",
   "nbconvert_exporter": "python",
   "pygments_lexer": "ipython3",
   "version": "3.9.13"
  }
 },
 "nbformat": 4,
 "nbformat_minor": 5
}
