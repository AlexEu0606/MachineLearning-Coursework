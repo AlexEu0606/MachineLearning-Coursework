{
 "cells": [
  {
   "cell_type": "code",
   "execution_count": 1,
   "id": "2cbb6f43",
   "metadata": {},
   "outputs": [],
   "source": [
    "#import libraries\n",
    "import numpy as np\n",
    "import pandas as pd\n",
    "from sklearn.preprocessing import StandardScaler"
   ]
  },
  {
   "cell_type": "code",
   "execution_count": 2,
   "id": "e20f1971",
   "metadata": {},
   "outputs": [],
   "source": [
    "#import dataset\n",
    "df = pd.read_excel('trainDataset.xls')"
   ]
  },
  {
   "cell_type": "code",
   "execution_count": 3,
   "id": "bcd33a63",
   "metadata": {},
   "outputs": [],
   "source": [
    "#drop ID column from dataset\n",
    "df = df.iloc[:, 1:]"
   ]
  },
  {
   "cell_type": "markdown",
   "id": "c726d012",
   "metadata": {},
   "source": [
    "# **DELETE MISSING VALUES**"
   ]
  },
  {
   "cell_type": "code",
   "execution_count": 4,
   "id": "27d8546c",
   "metadata": {},
   "outputs": [],
   "source": [
    "#delete missing values (999) of each column \n",
    "for column in df:\n",
    "    df[column]=df[column].replace(999, None)\n",
    "\n",
    "df = df.dropna()"
   ]
  },
  {
   "cell_type": "code",
   "execution_count": 5,
   "id": "2f82d4fb",
   "metadata": {},
   "outputs": [],
   "source": [
    "final_df_classif = df\n",
    "final_df_reg = df\n",
    "\n",
    "#namelist of columns that has categorical data or do not need normalisation for classification\n",
    "drop_classif = ['pCR (outcome)', 'ER', 'PgR', 'HER2', 'TrippleNegative', 'ChemoGrade', 'Proliferation', 'HistologyType', 'LNStatus', 'TumourStage']\n",
    "\n",
    "#namelist of columns that has categorical data or do not need normalisation for regression\n",
    "drop_reg = drop_classif + ['RelapseFreeSurvival (outcome)']\n",
    "\n",
    "#drop the columns with booleans/specific grades as they wont have outliers\n",
    "df_classif = df.drop(drop_classif, axis=1)\n",
    "df_reg = df.drop(drop_reg, axis=1)"
   ]
  },
  {
   "cell_type": "markdown",
   "id": "b793cedd",
   "metadata": {},
   "source": [
    "# **REPLACING OUTLIERS**"
   ]
  },
  {
   "cell_type": "code",
   "execution_count": 6,
   "id": "5aaa8dd1",
   "metadata": {
    "scrolled": false
   },
   "outputs": [],
   "source": [
    "#use IQR method to find outliers\n",
    "def IQR_outliers(column):\n",
    "    Q1=df[column].quantile(0.25)\n",
    "    Q3=df[column].quantile(0.75)\n",
    "    IQR = Q3-Q1\n",
    "    df_outliers=df[((df[column]<(Q1-1.5*IQR)) | (df[column]>(Q3+1.5*IQR)))]\n",
    "    return df_outliers\n",
    "\n",
    "#delete outliers\n",
    "def replace_outliers(df1, df2, drop_list):\n",
    "    for column in df1:\n",
    "        if column not in drop_list:\n",
    "            df_outliers = IQR_outliers(column)\n",
    "            for i in range((df_outliers.shape[0])):\n",
    "                label_index = df_outliers.index[i]\n",
    "                df2.loc[label_index, column] = df2[column].median()\n",
    "    return df2\n",
    "\n",
    "final_df_classif = replace_outliers(df_classif, final_df_classif, drop_classif)\n",
    "final_df_reg = replace_outliers(df_reg, final_df_reg, drop_reg)"
   ]
  },
  {
   "cell_type": "markdown",
   "id": "417caefa",
   "metadata": {},
   "source": [
    "# **NORMALISATION**"
   ]
  },
  {
   "cell_type": "code",
   "execution_count": 7,
   "id": "2c7b8e7a",
   "metadata": {},
   "outputs": [],
   "source": [
    "from sklearn.preprocessing import MinMaxScaler\n",
    "\n",
    "def normalize(df, x):\n",
    "    result = df.copy()\n",
    "    for feature_name in df.columns:\n",
    "        if (x == 'classification' and feature_name not in drop_classif) or (x == 'regression' and feature_name not in drop_reg):\n",
    "            max_value = df[feature_name].max()\n",
    "            min_value = df[feature_name].min()\n",
    "            result[feature_name] = (df[feature_name] - min_value) / (max_value - min_value)\n",
    "    return result\n",
    "\n",
    "normalised_df_classif = normalize(final_df_classif,'classification')\n",
    "normalised_df_reg = normalize(final_df_reg,'regression')"
   ]
  },
  {
   "cell_type": "markdown",
   "id": "443be4b9",
   "metadata": {},
   "source": [
    "# FEATURE SELECTION"
   ]
  },
  {
   "cell_type": "markdown",
   "id": "67149e64",
   "metadata": {},
   "source": [
    "### Classification "
   ]
  },
  {
   "cell_type": "code",
   "execution_count": 8,
   "id": "bc60e32e",
   "metadata": {},
   "outputs": [],
   "source": [
    "#separate target variable for classification (PCR)\n",
    "x_classif = normalised_df_classif.drop(labels=['pCR (outcome)'], axis=1)\n",
    "y_classif = normalised_df_classif['pCR (outcome)']"
   ]
  },
  {
   "cell_type": "code",
   "execution_count": 9,
   "id": "7ac9ab34",
   "metadata": {},
   "outputs": [],
   "source": [
    "#apply ANOVA for classification\n",
    "from sklearn.feature_selection import f_classif, SelectKBest\n",
    "import math\n",
    "\n",
    "fs = SelectKBest(score_func = f_classif, k= 53)  #k value for when P_value < 0.05\n",
    "# Apply feature selection\n",
    "fs.fit(x_classif,y_classif)\n",
    "\n",
    "#declare variable to put selected features for classification\n",
    "df_classif_final = pd.DataFrame()\n",
    "\n",
    "def list_ceil(x):\n",
    "    return[math.ceil(i) in x]\n",
    "\n",
    "features_score = pd.DataFrame(fs.scores_)\n",
    "features_pvalue = pd.DataFrame(np.round(fs.pvalues_,4))\n",
    "features = pd.DataFrame(x_classif.columns)\n",
    "feature_score = pd.concat([features,features_score,features_pvalue],axis=1)\n",
    "\n",
    "# Assign column names\n",
    "feature_score.columns = ['Input_Features','Score','P_Value']\n",
    "chosen_features = feature_score.nlargest(53,columns='Score')\n",
    "\n",
    "# Add selected features into a new dataframe\n",
    "for feature in chosen_features['Input_Features']:\n",
    "    df_classif_final = pd.concat([df_classif_final, normalised_df_classif[feature]], axis=1)"
   ]
  },
  {
   "cell_type": "markdown",
   "id": "f4fd5613",
   "metadata": {},
   "source": [
    "### Regression"
   ]
  },
  {
   "cell_type": "code",
   "execution_count": 10,
   "id": "53502efe",
   "metadata": {},
   "outputs": [],
   "source": [
    "#separate target value for regression (RFS)\n",
    "x_reg = normalised_df_reg.drop(labels=['RelapseFreeSurvival (outcome)'], axis=1)\n",
    "y_reg = normalised_df_reg['RelapseFreeSurvival (outcome)']"
   ]
  },
  {
   "cell_type": "code",
   "execution_count": 11,
   "id": "3eb657e4",
   "metadata": {
    "scrolled": true
   },
   "outputs": [],
   "source": [
    "#apply ANOVA for regression\n",
    "from sklearn.feature_selection import f_regression, SelectKBest\n",
    "import math\n",
    "\n",
    "fs = SelectKBest(score_func=f_regression,k=20) #k value for when P_value < 0.05\n",
    "# Apply feature selection\n",
    "fs.fit(x_reg,y_reg)\n",
    "\n",
    "#declare variable to put selected features for classification\n",
    "df_reg_final = pd.DataFrame()\n",
    "\n",
    "def list_ceil(x):\n",
    "    return[math.ceil(i) in x]\n",
    "\n",
    "features_score = pd.DataFrame(fs.scores_)\n",
    "features_pvalue = pd.DataFrame(np.round(fs.pvalues_,4))\n",
    "features = pd.DataFrame(x_reg.columns)\n",
    "feature_score = pd.concat([features,features_score,features_pvalue],axis=1)\n",
    "\n",
    "# Assign column names\n",
    "feature_score.columns = ['Input_Features','Score','P_Value']\n",
    "chosen_features = feature_score.nlargest(20,columns='Score')\n",
    "\n",
    "# Add selected features into a new dataframe\n",
    "for feature in chosen_features['Input_Features']:\n",
    "    df_reg_final = pd.concat([df_reg_final, normalised_df_reg[feature]], axis=1)"
   ]
  }
 ],
 "metadata": {
  "kernelspec": {
   "display_name": "Python 3 (ipykernel)",
   "language": "python",
   "name": "python3"
  },
  "language_info": {
   "codemirror_mode": {
    "name": "ipython",
    "version": 3
   },
   "file_extension": ".py",
   "mimetype": "text/x-python",
   "name": "python",
   "nbconvert_exporter": "python",
   "pygments_lexer": "ipython3",
   "version": "3.9.13"
  }
 },
 "nbformat": 4,
 "nbformat_minor": 5
}
